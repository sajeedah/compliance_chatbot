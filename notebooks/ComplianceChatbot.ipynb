{
 "cells": [
  {
   "cell_type": "markdown",
   "id": "8dab39b8",
   "metadata": {},
   "source": [
    "# ComplianceChatbot: End-to-End Demo\n",
    "\n",
    "This notebook shows how to:\n",
    "1. Install dependencies & configure API keys\n",
    "2. Ingest FATF/VARA docs → chunks → embeddings → FAISS\n",
    "3. Retrieve and answer with the RAG pipeline (`answer(query)`)\n",
    "4. Evaluate grounding & citation quality with a small eval set\n",
    "\n",
    "> **Teaching style**: short steps with clear **what/why** comments.\n"
   ]
  },
  {
   "cell_type": "code",
   "execution_count": 1,
   "id": "0c7868f4",
   "metadata": {},
   "outputs": [
    {
     "name": "stdout",
     "output_type": "stream",
     "text": [
      "Requirement already satisfied: python-dotenv>=1.0.1 in c:\\users\\sajeed\\appdata\\local\\programs\\python\\python310\\lib\\site-packages (from -r ../requirements.txt (line 2)) (1.1.1)\n",
      "Requirement already satisfied: pydantic>=2.8.2 in c:\\users\\sajeed\\appdata\\local\\programs\\python\\python310\\lib\\site-packages (from -r ../requirements.txt (line 3)) (2.11.9)\n",
      "Requirement already satisfied: pypdf>=5.0.0 in c:\\users\\sajeed\\appdata\\local\\programs\\python\\python310\\lib\\site-packages (from -r ../requirements.txt (line 5)) (6.1.0)\n",
      "Requirement already satisfied: markdown>=3.6 in c:\\users\\sajeed\\appdata\\local\\programs\\python\\python310\\lib\\site-packages (from -r ../requirements.txt (line 6)) (3.9)\n",
      "Requirement already satisfied: beautifulsoup4>=4.12.3 in c:\\users\\sajeed\\appdata\\local\\programs\\python\\python310\\lib\\site-packages (from -r ../requirements.txt (line 7)) (4.13.5)\n",
      "Requirement already satisfied: sentence-transformers>=3.0.1 in c:\\users\\sajeed\\appdata\\local\\programs\\python\\python310\\lib\\site-packages (from -r ../requirements.txt (line 9)) (5.1.1)\n",
      "Requirement already satisfied: faiss-cpu>=1.8.0.post1 in c:\\users\\sajeed\\appdata\\local\\programs\\python\\python310\\lib\\site-packages (from -r ../requirements.txt (line 10)) (1.12.0)\n",
      "Requirement already satisfied: streamlit>=1.37.0 in c:\\users\\sajeed\\appdata\\local\\programs\\python\\python310\\lib\\site-packages (from -r ../requirements.txt (line 12)) (1.50.0)\n",
      "Requirement already satisfied: tqdm>=4.66.4 in c:\\users\\sajeed\\appdata\\local\\programs\\python\\python310\\lib\\site-packages (from -r ../requirements.txt (line 13)) (4.67.1)\n",
      "Requirement already satisfied: tabulate>=0.9.0 in c:\\users\\sajeed\\appdata\\local\\programs\\python\\python310\\lib\\site-packages (from -r ../requirements.txt (line 14)) (0.9.0)\n",
      "Requirement already satisfied: openai>=1.40.0 in c:\\users\\sajeed\\appdata\\local\\programs\\python\\python310\\lib\\site-packages (from -r ../requirements.txt (line 16)) (1.109.1)\n",
      "Requirement already satisfied: pydantic-core==2.33.2 in c:\\users\\sajeed\\appdata\\local\\programs\\python\\python310\\lib\\site-packages (from pydantic>=2.8.2->-r ../requirements.txt (line 3)) (2.33.2)\n",
      "Requirement already satisfied: annotated-types>=0.6.0 in c:\\users\\sajeed\\appdata\\local\\programs\\python\\python310\\lib\\site-packages (from pydantic>=2.8.2->-r ../requirements.txt (line 3)) (0.7.0)\n",
      "Requirement already satisfied: typing-inspection>=0.4.0 in c:\\users\\sajeed\\appdata\\local\\programs\\python\\python310\\lib\\site-packages (from pydantic>=2.8.2->-r ../requirements.txt (line 3)) (0.4.1)\n",
      "Requirement already satisfied: typing-extensions>=4.12.2 in c:\\users\\sajeed\\appdata\\local\\programs\\python\\python310\\lib\\site-packages (from pydantic>=2.8.2->-r ../requirements.txt (line 3)) (4.15.0)\n",
      "Requirement already satisfied: soupsieve>1.2 in c:\\users\\sajeed\\appdata\\local\\programs\\python\\python310\\lib\\site-packages (from beautifulsoup4>=4.12.3->-r ../requirements.txt (line 7)) (2.8)\n",
      "Requirement already satisfied: huggingface-hub>=0.20.0 in c:\\users\\sajeed\\appdata\\local\\programs\\python\\python310\\lib\\site-packages (from sentence-transformers>=3.0.1->-r ../requirements.txt (line 9)) (0.35.1)\n",
      "Requirement already satisfied: transformers<5.0.0,>=4.41.0 in c:\\users\\sajeed\\appdata\\local\\programs\\python\\python310\\lib\\site-packages (from sentence-transformers>=3.0.1->-r ../requirements.txt (line 9)) (4.56.2)\n",
      "Requirement already satisfied: torch>=1.11.0 in c:\\users\\sajeed\\appdata\\local\\programs\\python\\python310\\lib\\site-packages (from sentence-transformers>=3.0.1->-r ../requirements.txt (line 9)) (2.8.0)\n",
      "Requirement already satisfied: scipy in c:\\users\\sajeed\\appdata\\local\\programs\\python\\python310\\lib\\site-packages (from sentence-transformers>=3.0.1->-r ../requirements.txt (line 9)) (1.15.3)\n",
      "Requirement already satisfied: Pillow in c:\\users\\sajeed\\appdata\\local\\programs\\python\\python310\\lib\\site-packages (from sentence-transformers>=3.0.1->-r ../requirements.txt (line 9)) (11.3.0)\n",
      "Requirement already satisfied: scikit-learn in c:\\users\\sajeed\\appdata\\local\\programs\\python\\python310\\lib\\site-packages (from sentence-transformers>=3.0.1->-r ../requirements.txt (line 9)) (1.7.2)\n",
      "Requirement already satisfied: numpy<3.0,>=1.25.0 in c:\\users\\sajeed\\appdata\\local\\programs\\python\\python310\\lib\\site-packages (from faiss-cpu>=1.8.0.post1->-r ../requirements.txt (line 10)) (2.2.6)\n",
      "Requirement already satisfied: packaging in c:\\users\\sajeed\\appdata\\local\\programs\\python\\python310\\lib\\site-packages (from faiss-cpu>=1.8.0.post1->-r ../requirements.txt (line 10)) (25.0)\n",
      "Requirement already satisfied: pydeck<1,>=0.8.0b4 in c:\\users\\sajeed\\appdata\\local\\programs\\python\\python310\\lib\\site-packages (from streamlit>=1.37.0->-r ../requirements.txt (line 12)) (0.9.1)\n",
      "Requirement already satisfied: tenacity<10,>=8.1.0 in c:\\users\\sajeed\\appdata\\local\\programs\\python\\python310\\lib\\site-packages (from streamlit>=1.37.0->-r ../requirements.txt (line 12)) (9.1.2)\n",
      "Requirement already satisfied: tornado!=6.5.0,<7,>=6.0.3 in c:\\users\\sajeed\\appdata\\local\\programs\\python\\python310\\lib\\site-packages (from streamlit>=1.37.0->-r ../requirements.txt (line 12)) (6.5.2)\n",
      "Requirement already satisfied: toml<2,>=0.10.1 in c:\\users\\sajeed\\appdata\\local\\programs\\python\\python310\\lib\\site-packages (from streamlit>=1.37.0->-r ../requirements.txt (line 12)) (0.10.2)\n",
      "Requirement already satisfied: altair!=5.4.0,!=5.4.1,<6,>=4.0 in c:\\users\\sajeed\\appdata\\local\\programs\\python\\python310\\lib\\site-packages (from streamlit>=1.37.0->-r ../requirements.txt (line 12)) (5.5.0)\n",
      "Requirement already satisfied: watchdog<7,>=2.1.5 in c:\\users\\sajeed\\appdata\\local\\programs\\python\\python310\\lib\\site-packages (from streamlit>=1.37.0->-r ../requirements.txt (line 12)) (6.0.0)\n",
      "Requirement already satisfied: requests<3,>=2.27 in c:\\users\\sajeed\\appdata\\local\\programs\\python\\python310\\lib\\site-packages (from streamlit>=1.37.0->-r ../requirements.txt (line 12)) (2.32.5)\n",
      "Requirement already satisfied: protobuf<7,>=3.20 in c:\\users\\sajeed\\appdata\\local\\programs\\python\\python310\\lib\\site-packages (from streamlit>=1.37.0->-r ../requirements.txt (line 12)) (6.32.1)\n",
      "Requirement already satisfied: pandas<3,>=1.4.0 in c:\\users\\sajeed\\appdata\\local\\programs\\python\\python310\\lib\\site-packages (from streamlit>=1.37.0->-r ../requirements.txt (line 12)) (2.3.1)\n",
      "Requirement already satisfied: click<9,>=7.0 in c:\\users\\sajeed\\appdata\\local\\programs\\python\\python310\\lib\\site-packages (from streamlit>=1.37.0->-r ../requirements.txt (line 12)) (8.3.0)\n",
      "Requirement already satisfied: blinker<2,>=1.5.0 in c:\\users\\sajeed\\appdata\\local\\programs\\python\\python310\\lib\\site-packages (from streamlit>=1.37.0->-r ../requirements.txt (line 12)) (1.9.0)\n",
      "Requirement already satisfied: cachetools<7,>=4.0 in c:\\users\\sajeed\\appdata\\local\\programs\\python\\python310\\lib\\site-packages (from streamlit>=1.37.0->-r ../requirements.txt (line 12)) (6.2.0)\n",
      "Requirement already satisfied: pyarrow>=7.0 in c:\\users\\sajeed\\appdata\\local\\programs\\python\\python310\\lib\\site-packages (from streamlit>=1.37.0->-r ../requirements.txt (line 12)) (21.0.0)\n",
      "Requirement already satisfied: gitpython!=3.1.19,<4,>=3.0.7 in c:\\users\\sajeed\\appdata\\local\\programs\\python\\python310\\lib\\site-packages (from streamlit>=1.37.0->-r ../requirements.txt (line 12)) (3.1.45)\n",
      "Requirement already satisfied: colorama in c:\\users\\sajeed\\appdata\\local\\programs\\python\\python310\\lib\\site-packages (from tqdm>=4.66.4->-r ../requirements.txt (line 13)) (0.4.6)\n",
      "Requirement already satisfied: httpx<1,>=0.23.0 in c:\\users\\sajeed\\appdata\\local\\programs\\python\\python310\\lib\\site-packages (from openai>=1.40.0->-r ../requirements.txt (line 16)) (0.28.1)\n",
      "Requirement already satisfied: anyio<5,>=3.5.0 in c:\\users\\sajeed\\appdata\\local\\programs\\python\\python310\\lib\\site-packages (from openai>=1.40.0->-r ../requirements.txt (line 16)) (4.11.0)\n",
      "Requirement already satisfied: jiter<1,>=0.4.0 in c:\\users\\sajeed\\appdata\\local\\programs\\python\\python310\\lib\\site-packages (from openai>=1.40.0->-r ../requirements.txt (line 16)) (0.11.0)\n",
      "Requirement already satisfied: distro<2,>=1.7.0 in c:\\users\\sajeed\\appdata\\local\\programs\\python\\python310\\lib\\site-packages (from openai>=1.40.0->-r ../requirements.txt (line 16)) (1.9.0)\n",
      "Requirement already satisfied: sniffio in c:\\users\\sajeed\\appdata\\local\\programs\\python\\python310\\lib\\site-packages (from openai>=1.40.0->-r ../requirements.txt (line 16)) (1.3.1)\n",
      "Requirement already satisfied: jinja2 in c:\\users\\sajeed\\appdata\\local\\programs\\python\\python310\\lib\\site-packages (from altair!=5.4.0,!=5.4.1,<6,>=4.0->streamlit>=1.37.0->-r ../requirements.txt (line 12)) (3.1.6)\n",
      "Requirement already satisfied: jsonschema>=3.0 in c:\\users\\sajeed\\appdata\\local\\programs\\python\\python310\\lib\\site-packages (from altair!=5.4.0,!=5.4.1,<6,>=4.0->streamlit>=1.37.0->-r ../requirements.txt (line 12)) (4.25.1)\n",
      "Requirement already satisfied: narwhals>=1.14.2 in c:\\users\\sajeed\\appdata\\local\\programs\\python\\python310\\lib\\site-packages (from altair!=5.4.0,!=5.4.1,<6,>=4.0->streamlit>=1.37.0->-r ../requirements.txt (line 12)) (2.5.0)\n",
      "Requirement already satisfied: exceptiongroup>=1.0.2 in c:\\users\\sajeed\\appdata\\local\\programs\\python\\python310\\lib\\site-packages (from anyio<5,>=3.5.0->openai>=1.40.0->-r ../requirements.txt (line 16)) (1.3.0)\n",
      "Requirement already satisfied: idna>=2.8 in c:\\users\\sajeed\\appdata\\local\\programs\\python\\python310\\lib\\site-packages (from anyio<5,>=3.5.0->openai>=1.40.0->-r ../requirements.txt (line 16)) (3.10)\n",
      "Requirement already satisfied: gitdb<5,>=4.0.1 in c:\\users\\sajeed\\appdata\\local\\programs\\python\\python310\\lib\\site-packages (from gitpython!=3.1.19,<4,>=3.0.7->streamlit>=1.37.0->-r ../requirements.txt (line 12)) (4.0.12)\n",
      "Requirement already satisfied: httpcore==1.* in c:\\users\\sajeed\\appdata\\local\\programs\\python\\python310\\lib\\site-packages (from httpx<1,>=0.23.0->openai>=1.40.0->-r ../requirements.txt (line 16)) (1.0.9)\n",
      "Requirement already satisfied: certifi in c:\\users\\sajeed\\appdata\\local\\programs\\python\\python310\\lib\\site-packages (from httpx<1,>=0.23.0->openai>=1.40.0->-r ../requirements.txt (line 16)) (2025.8.3)\n",
      "Requirement already satisfied: h11>=0.16 in c:\\users\\sajeed\\appdata\\local\\programs\\python\\python310\\lib\\site-packages (from httpcore==1.*->httpx<1,>=0.23.0->openai>=1.40.0->-r ../requirements.txt (line 16)) (0.16.0)\n",
      "Requirement already satisfied: filelock in c:\\users\\sajeed\\appdata\\local\\programs\\python\\python310\\lib\\site-packages (from huggingface-hub>=0.20.0->sentence-transformers>=3.0.1->-r ../requirements.txt (line 9)) (3.19.1)\n",
      "Requirement already satisfied: fsspec>=2023.5.0 in c:\\users\\sajeed\\appdata\\local\\programs\\python\\python310\\lib\\site-packages (from huggingface-hub>=0.20.0->sentence-transformers>=3.0.1->-r ../requirements.txt (line 9)) (2025.9.0)\n",
      "Requirement already satisfied: pyyaml>=5.1 in c:\\users\\sajeed\\appdata\\local\\programs\\python\\python310\\lib\\site-packages (from huggingface-hub>=0.20.0->sentence-transformers>=3.0.1->-r ../requirements.txt (line 9)) (6.0.3)\n",
      "Requirement already satisfied: python-dateutil>=2.8.2 in c:\\users\\sajeed\\appdata\\local\\programs\\python\\python310\\lib\\site-packages (from pandas<3,>=1.4.0->streamlit>=1.37.0->-r ../requirements.txt (line 12)) (2.9.0.post0)\n",
      "Requirement already satisfied: pytz>=2020.1 in c:\\users\\sajeed\\appdata\\local\\programs\\python\\python310\\lib\\site-packages (from pandas<3,>=1.4.0->streamlit>=1.37.0->-r ../requirements.txt (line 12)) (2025.2)\n",
      "Requirement already satisfied: tzdata>=2022.7 in c:\\users\\sajeed\\appdata\\local\\programs\\python\\python310\\lib\\site-packages (from pandas<3,>=1.4.0->streamlit>=1.37.0->-r ../requirements.txt (line 12)) (2025.2)\n",
      "Requirement already satisfied: charset_normalizer<4,>=2 in c:\\users\\sajeed\\appdata\\local\\programs\\python\\python310\\lib\\site-packages (from requests<3,>=2.27->streamlit>=1.37.0->-r ../requirements.txt (line 12)) (3.4.3)\n",
      "Requirement already satisfied: urllib3<3,>=1.21.1 in c:\\users\\sajeed\\appdata\\local\\programs\\python\\python310\\lib\\site-packages (from requests<3,>=2.27->streamlit>=1.37.0->-r ../requirements.txt (line 12)) (2.5.0)\n",
      "Requirement already satisfied: sympy>=1.13.3 in c:\\users\\sajeed\\appdata\\local\\programs\\python\\python310\\lib\\site-packages (from torch>=1.11.0->sentence-transformers>=3.0.1->-r ../requirements.txt (line 9)) (1.14.0)\n",
      "Requirement already satisfied: networkx in c:\\users\\sajeed\\appdata\\local\\programs\\python\\python310\\lib\\site-packages (from torch>=1.11.0->sentence-transformers>=3.0.1->-r ../requirements.txt (line 9)) (3.4.2)\n",
      "Requirement already satisfied: safetensors>=0.4.3 in c:\\users\\sajeed\\appdata\\local\\programs\\python\\python310\\lib\\site-packages (from transformers<5.0.0,>=4.41.0->sentence-transformers>=3.0.1->-r ../requirements.txt (line 9)) (0.6.2)\n",
      "Requirement already satisfied: regex!=2019.12.17 in c:\\users\\sajeed\\appdata\\local\\programs\\python\\python310\\lib\\site-packages (from transformers<5.0.0,>=4.41.0->sentence-transformers>=3.0.1->-r ../requirements.txt (line 9)) (2025.9.18)\n",
      "Requirement already satisfied: tokenizers<=0.23.0,>=0.22.0 in c:\\users\\sajeed\\appdata\\local\\programs\\python\\python310\\lib\\site-packages (from transformers<5.0.0,>=4.41.0->sentence-transformers>=3.0.1->-r ../requirements.txt (line 9)) (0.22.1)\n",
      "Requirement already satisfied: threadpoolctl>=3.1.0 in c:\\users\\sajeed\\appdata\\local\\programs\\python\\python310\\lib\\site-packages (from scikit-learn->sentence-transformers>=3.0.1->-r ../requirements.txt (line 9)) (3.6.0)\n",
      "Requirement already satisfied: joblib>=1.2.0 in c:\\users\\sajeed\\appdata\\local\\programs\\python\\python310\\lib\\site-packages (from scikit-learn->sentence-transformers>=3.0.1->-r ../requirements.txt (line 9)) (1.5.2)\n",
      "Requirement already satisfied: smmap<6,>=3.0.1 in c:\\users\\sajeed\\appdata\\local\\programs\\python\\python310\\lib\\site-packages (from gitdb<5,>=4.0.1->gitpython!=3.1.19,<4,>=3.0.7->streamlit>=1.37.0->-r ../requirements.txt (line 12)) (5.0.2)\n",
      "Requirement already satisfied: MarkupSafe>=2.0 in c:\\users\\sajeed\\appdata\\local\\programs\\python\\python310\\lib\\site-packages (from jinja2->altair!=5.4.0,!=5.4.1,<6,>=4.0->streamlit>=1.37.0->-r ../requirements.txt (line 12)) (3.0.2)\n",
      "Requirement already satisfied: jsonschema-specifications>=2023.03.6 in c:\\users\\sajeed\\appdata\\local\\programs\\python\\python310\\lib\\site-packages (from jsonschema>=3.0->altair!=5.4.0,!=5.4.1,<6,>=4.0->streamlit>=1.37.0->-r ../requirements.txt (line 12)) (2025.9.1)\n",
      "Requirement already satisfied: rpds-py>=0.7.1 in c:\\users\\sajeed\\appdata\\local\\programs\\python\\python310\\lib\\site-packages (from jsonschema>=3.0->altair!=5.4.0,!=5.4.1,<6,>=4.0->streamlit>=1.37.0->-r ../requirements.txt (line 12)) (0.27.1)\n",
      "Requirement already satisfied: referencing>=0.28.4 in c:\\users\\sajeed\\appdata\\local\\programs\\python\\python310\\lib\\site-packages (from jsonschema>=3.0->altair!=5.4.0,!=5.4.1,<6,>=4.0->streamlit>=1.37.0->-r ../requirements.txt (line 12)) (0.36.2)\n",
      "Requirement already satisfied: attrs>=22.2.0 in c:\\users\\sajeed\\appdata\\local\\programs\\python\\python310\\lib\\site-packages (from jsonschema>=3.0->altair!=5.4.0,!=5.4.1,<6,>=4.0->streamlit>=1.37.0->-r ../requirements.txt (line 12)) (25.3.0)\n",
      "Requirement already satisfied: six>=1.5 in c:\\users\\sajeed\\appdata\\local\\programs\\python\\python310\\lib\\site-packages (from python-dateutil>=2.8.2->pandas<3,>=1.4.0->streamlit>=1.37.0->-r ../requirements.txt (line 12)) (1.17.0)\n",
      "Requirement already satisfied: mpmath<1.4,>=1.1.0 in c:\\users\\sajeed\\appdata\\local\\programs\\python\\python310\\lib\\site-packages (from sympy>=1.13.3->torch>=1.11.0->sentence-transformers>=3.0.1->-r ../requirements.txt (line 9)) (1.3.0)\n"
     ]
    },
    {
     "name": "stderr",
     "output_type": "stream",
     "text": [
      "\n",
      "[notice] A new release of pip available: 22.2.2 -> 25.2\n",
      "[notice] To update, run: python.exe -m pip install --upgrade pip\n"
     ]
    }
   ],
   "source": [
    "# 1) Setup: install requirements (run once in your environment)\n",
    "!pip install -r ../requirements.txt"
   ]
  },
  {
   "cell_type": "markdown",
   "id": "ee555ec8",
   "metadata": {},
   "source": [
    "### Configure keys (.env)\n",
    "- Copy `.env.example` to `.env` and fill `OPENAI_API_KEY` (and optional `OPENAI_BASE_URL`).\n",
    "- Choose your `OPENAI_MODEL` (default: `gpt-4o-mini`)."
   ]
  },
  {
   "cell_type": "markdown",
   "id": "7f54ddf8",
   "metadata": {},
   "source": [
    "### Add documents\n",
    "- Put your PDFs and Markdown files into `../docs/`.\n",
    "- Examples: `FATF_Recommendation_16.pdf`, `VARA_Client_Money.md`.\n"
   ]
  },
  {
   "cell_type": "code",
   "execution_count": 4,
   "id": "aaedbbbc",
   "metadata": {},
   "outputs": [
    {
     "name": "stdout",
     "output_type": "stream",
     "text": [
      "Loading documents from: C:\\Projects\\compliance_chatbot\\docs\n",
      "Built 293 chunks. Embedding...\n"
     ]
    },
    {
     "name": "stderr",
     "output_type": "stream",
     "text": [
      "C:\\Users\\Sajeed\\AppData\\Local\\Programs\\Python\\Python310\\lib\\site-packages\\tqdm\\auto.py:21: TqdmWarning: IProgress not found. Please update jupyter and ipywidgets. See https://ipywidgets.readthedocs.io/en/stable/user_install.html\n",
      "  from .autonotebook import tqdm as notebook_tqdm\n",
      "Batches: 100%|███████████████████████████████████████████████████████████████████████████████████████████████████████████████████████████████| 10/10 [00:08<00:00,  1.16it/s]"
     ]
    },
    {
     "name": "stdout",
     "output_type": "stream",
     "text": [
      "Saving FAISS index + metadata...\n",
      "Done.\n"
     ]
    },
    {
     "name": "stderr",
     "output_type": "stream",
     "text": [
      "\n"
     ]
    }
   ],
   "source": [
    "# 2) Ingest the corpus\n",
    "import sys, os  \n",
    "import sys   # Open the system toolbox\n",
    "sys.argv = ['']   # clears Jupyter's extra args or Erase Jupyter’s messy notes and give it a clean slate\n",
    "\n",
    "from src.ingest import main    # Bring in the ingestion machine\n",
    "main()   # Turn on the ingestion machine."
   ]
  },
  {
   "cell_type": "code",
   "execution_count": 6,
   "id": "ba1d79df",
   "metadata": {},
   "outputs": [
    {
     "name": "stdout",
     "output_type": "stream",
     "text": [
      "- FATF Recommendation 16 aims to prevent terrorists and criminals from accessing wire payments by ensuring that basic information about the originator and beneficiary is available to law enforcement and financial institutions.\n",
      "- It applies to both cross-border and domestic wire transfers, requiring structured information to facilitate identification and reporting of suspicious transactions.\n",
      "- Countries should minimize thresholds for wire transfers to trace all payments effectively while considering financial inclusion.\n",
      "\n",
      "In summary, FATF Recommendation 16 focuses on enhancing transparency in wire transfers to combat money laundering and terrorist financing by ensuring that essential information is readily accessible to relevant authorities and institutions.\n",
      "\n",
      "> Quote:  + quotes[0] + \n",
      "> Quote:  + extra + \n",
      "\n",
      "Citations: FATF_Recommendations.pdf#p77; Explanatory_Note_R16.pdf#p15; FATF_Recommendations.pdf#p87; FATF_Recommendations.pdf#p78; Explanatory_Note_R16.pdf#p1\n"
     ]
    }
   ],
   "source": [
    "# 3) Ask questions via the RAG pipeline\n",
    "from src.rag import answer\n",
    "from src.config import Paths, Settings\n",
    "\n",
    "res = answer(\"What does FATF Recommendation 16 say about wire transfers?\")\n",
    "print(res.text)"
   ]
  },
  {
   "cell_type": "code",
   "execution_count": 7,
   "id": "a2636958",
   "metadata": {},
   "outputs": [
    {
     "name": "stdout",
     "output_type": "stream",
     "text": [
      "- \"Client Money\" refers to all money owned by a client and held by a VASP, excluding fees and expenses due to the VASP.\n",
      "- Client Money must be held in a \"Client Account\" at a Third-Party Bank and is not owned by the VASP.\n",
      "- VASPs must ensure Client Money is identifiable, secure, and not used to satisfy obligations to other clients.\n",
      "- Client Money must be deposited into a Client Account within one calendar day of receipt.\n",
      "- VASPs cannot take ownership of Client Money except for placing it under trust for clients.\n",
      "\n",
      "In summary, VARA's rules stipulate that Client Money must be securely held in designated accounts, cannot be used for other clients' obligations, and VASPs must maintain strict controls and records regarding its handling.\n",
      "\n",
      "> Quote:  + quotes[0] + \n",
      "> Quote:  + extra + \n",
      "\n",
      "Citations: VARA_Compliance_Risk.pdf#p37; VARA_Client_Money.md#section-b-treatment-of-client-money; VARA_Compliance_Risk.pdf#p38; VARA_Compliance_Risk.pdf#p40; VARA_Client_Money.md#section-a-application-and-interpretation\n"
     ]
    }
   ],
   "source": [
    "# Another example\n",
    "res = answer(\"What are VARA's rules on Client Money?\")\n",
    "print(res.text)"
   ]
  },
  {
   "cell_type": "markdown",
   "id": "8909282d",
   "metadata": {},
   "source": [
    "### 4) Evaluate grounding & citation quality\n",
    "We run a small automated check to ensure each answer has citations, at least one quote, and uses the guardrail when retrieval is weak."
   ]
  },
  {
   "cell_type": "code",
   "execution_count": null,
   "id": "6847004a",
   "metadata": {},
   "outputs": [],
   "source": [
    "from src.eval import main as eval_main\n",
    "eval_main()"
   ]
  }
 ],
 "metadata": {
  "kernelspec": {
   "display_name": "Python 3 (ipykernel)",
   "language": "python",
   "name": "python3"
  },
  "language_info": {
   "codemirror_mode": {
    "name": "ipython",
    "version": 3
   },
   "file_extension": ".py",
   "mimetype": "text/x-python",
   "name": "python",
   "nbconvert_exporter": "python",
   "pygments_lexer": "ipython3",
   "version": "3.10.7"
  }
 },
 "nbformat": 4,
 "nbformat_minor": 5
}
